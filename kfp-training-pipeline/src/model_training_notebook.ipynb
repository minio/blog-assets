{
 "cells": [
  {
   "cell_type": "code",
   "execution_count": 1,
   "metadata": {},
   "outputs": [],
   "source": [
    "import data_utilities as du\n",
    "import model_utilities as mu"
   ]
  },
  {
   "cell_type": "code",
   "execution_count": 2,
   "metadata": {},
   "outputs": [
    {
     "data": {
      "text/html": [
       "<div>\n",
       "<style scoped>\n",
       "    .dataframe tbody tr th:only-of-type {\n",
       "        vertical-align: middle;\n",
       "    }\n",
       "\n",
       "    .dataframe tbody tr th {\n",
       "        vertical-align: top;\n",
       "    }\n",
       "\n",
       "    .dataframe thead th {\n",
       "        text-align: right;\n",
       "    }\n",
       "</style>\n",
       "<table border=\"1\" class=\"dataframe\">\n",
       "  <thead>\n",
       "    <tr style=\"text-align: right;\">\n",
       "      <th></th>\n",
       "      <th>row_id</th>\n",
       "      <th>cfips</th>\n",
       "      <th>county</th>\n",
       "      <th>state</th>\n",
       "      <th>first_day_of_month</th>\n",
       "      <th>microbusiness_density</th>\n",
       "      <th>active</th>\n",
       "    </tr>\n",
       "  </thead>\n",
       "  <tbody>\n",
       "    <tr>\n",
       "      <th>0</th>\n",
       "      <td>1001_2019-08-01</td>\n",
       "      <td>1001</td>\n",
       "      <td>Autauga County</td>\n",
       "      <td>Alabama</td>\n",
       "      <td>2019-08-01</td>\n",
       "      <td>3.007682</td>\n",
       "      <td>1249</td>\n",
       "    </tr>\n",
       "    <tr>\n",
       "      <th>1</th>\n",
       "      <td>1001_2019-09-01</td>\n",
       "      <td>1001</td>\n",
       "      <td>Autauga County</td>\n",
       "      <td>Alabama</td>\n",
       "      <td>2019-09-01</td>\n",
       "      <td>2.884870</td>\n",
       "      <td>1198</td>\n",
       "    </tr>\n",
       "    <tr>\n",
       "      <th>2</th>\n",
       "      <td>1001_2019-10-01</td>\n",
       "      <td>1001</td>\n",
       "      <td>Autauga County</td>\n",
       "      <td>Alabama</td>\n",
       "      <td>2019-10-01</td>\n",
       "      <td>3.055843</td>\n",
       "      <td>1269</td>\n",
       "    </tr>\n",
       "    <tr>\n",
       "      <th>3</th>\n",
       "      <td>1001_2019-11-01</td>\n",
       "      <td>1001</td>\n",
       "      <td>Autauga County</td>\n",
       "      <td>Alabama</td>\n",
       "      <td>2019-11-01</td>\n",
       "      <td>2.993233</td>\n",
       "      <td>1243</td>\n",
       "    </tr>\n",
       "    <tr>\n",
       "      <th>4</th>\n",
       "      <td>1001_2019-12-01</td>\n",
       "      <td>1001</td>\n",
       "      <td>Autauga County</td>\n",
       "      <td>Alabama</td>\n",
       "      <td>2019-12-01</td>\n",
       "      <td>2.993233</td>\n",
       "      <td>1243</td>\n",
       "    </tr>\n",
       "  </tbody>\n",
       "</table>\n",
       "</div>"
      ],
      "text/plain": [
       "            row_id  cfips          county    state first_day_of_month   \n",
       "0  1001_2019-08-01   1001  Autauga County  Alabama         2019-08-01  \\\n",
       "1  1001_2019-09-01   1001  Autauga County  Alabama         2019-09-01   \n",
       "2  1001_2019-10-01   1001  Autauga County  Alabama         2019-10-01   \n",
       "3  1001_2019-11-01   1001  Autauga County  Alabama         2019-11-01   \n",
       "4  1001_2019-12-01   1001  Autauga County  Alabama         2019-12-01   \n",
       "\n",
       "   microbusiness_density  active  \n",
       "0               3.007682    1249  \n",
       "1               2.884870    1198  \n",
       "2               3.055843    1269  \n",
       "3               2.993233    1243  \n",
       "4               2.993233    1243  "
      ]
     },
     "execution_count": 2,
     "metadata": {},
     "output_type": "execute_result"
    }
   ],
   "source": [
    "df_raw = du.get_object('microbusiness-density', 'train.csv', host='localhost:9000')\n",
    "df_raw.head()"
   ]
  },
  {
   "cell_type": "code",
   "execution_count": 3,
   "metadata": {},
   "outputs": [
    {
     "data": {
      "text/html": [
       "<div>\n",
       "<style scoped>\n",
       "    .dataframe tbody tr th:only-of-type {\n",
       "        vertical-align: middle;\n",
       "    }\n",
       "\n",
       "    .dataframe tbody tr th {\n",
       "        vertical-align: top;\n",
       "    }\n",
       "\n",
       "    .dataframe thead th {\n",
       "        text-align: right;\n",
       "    }\n",
       "</style>\n",
       "<table border=\"1\" class=\"dataframe\">\n",
       "  <thead>\n",
       "    <tr style=\"text-align: right;\">\n",
       "      <th></th>\n",
       "      <th>row_id</th>\n",
       "      <th>cfips</th>\n",
       "      <th>county</th>\n",
       "      <th>state</th>\n",
       "      <th>first_day_of_month</th>\n",
       "      <th>microbusiness_density</th>\n",
       "      <th>active</th>\n",
       "      <th>measurement_date</th>\n",
       "      <th>year</th>\n",
       "      <th>unix_elapsed_seconds</th>\n",
       "    </tr>\n",
       "  </thead>\n",
       "  <tbody>\n",
       "    <tr>\n",
       "      <th>0</th>\n",
       "      <td>1001_2019-08-01</td>\n",
       "      <td>0</td>\n",
       "      <td>Autauga County</td>\n",
       "      <td>0</td>\n",
       "      <td>2019-08-01</td>\n",
       "      <td>3.007682</td>\n",
       "      <td>1249</td>\n",
       "      <td>2019-08-01</td>\n",
       "      <td>2019</td>\n",
       "      <td>0.000000</td>\n",
       "    </tr>\n",
       "    <tr>\n",
       "      <th>1</th>\n",
       "      <td>1001_2019-09-01</td>\n",
       "      <td>0</td>\n",
       "      <td>Autauga County</td>\n",
       "      <td>0</td>\n",
       "      <td>2019-09-01</td>\n",
       "      <td>2.884870</td>\n",
       "      <td>1198</td>\n",
       "      <td>2019-09-01</td>\n",
       "      <td>2019</td>\n",
       "      <td>0.026793</td>\n",
       "    </tr>\n",
       "    <tr>\n",
       "      <th>2</th>\n",
       "      <td>1001_2019-10-01</td>\n",
       "      <td>0</td>\n",
       "      <td>Autauga County</td>\n",
       "      <td>0</td>\n",
       "      <td>2019-10-01</td>\n",
       "      <td>3.055843</td>\n",
       "      <td>1269</td>\n",
       "      <td>2019-10-01</td>\n",
       "      <td>2019</td>\n",
       "      <td>0.052723</td>\n",
       "    </tr>\n",
       "    <tr>\n",
       "      <th>3</th>\n",
       "      <td>1001_2019-11-01</td>\n",
       "      <td>0</td>\n",
       "      <td>Autauga County</td>\n",
       "      <td>0</td>\n",
       "      <td>2019-11-01</td>\n",
       "      <td>2.993233</td>\n",
       "      <td>1243</td>\n",
       "      <td>2019-11-01</td>\n",
       "      <td>2019</td>\n",
       "      <td>0.079516</td>\n",
       "    </tr>\n",
       "    <tr>\n",
       "      <th>4</th>\n",
       "      <td>1001_2019-12-01</td>\n",
       "      <td>0</td>\n",
       "      <td>Autauga County</td>\n",
       "      <td>0</td>\n",
       "      <td>2019-12-01</td>\n",
       "      <td>2.993233</td>\n",
       "      <td>1243</td>\n",
       "      <td>2019-12-01</td>\n",
       "      <td>2019</td>\n",
       "      <td>0.105445</td>\n",
       "    </tr>\n",
       "  </tbody>\n",
       "</table>\n",
       "</div>"
      ],
      "text/plain": [
       "            row_id cfips          county state first_day_of_month   \n",
       "0  1001_2019-08-01     0  Autauga County     0         2019-08-01  \\\n",
       "1  1001_2019-09-01     0  Autauga County     0         2019-09-01   \n",
       "2  1001_2019-10-01     0  Autauga County     0         2019-10-01   \n",
       "3  1001_2019-11-01     0  Autauga County     0         2019-11-01   \n",
       "4  1001_2019-12-01     0  Autauga County     0         2019-12-01   \n",
       "\n",
       "   microbusiness_density  active measurement_date  year  unix_elapsed_seconds  \n",
       "0               3.007682    1249       2019-08-01  2019              0.000000  \n",
       "1               2.884870    1198       2019-09-01  2019              0.026793  \n",
       "2               3.055843    1269       2019-10-01  2019              0.052723  \n",
       "3               2.993233    1243       2019-11-01  2019              0.079516  \n",
       "4               2.993233    1243       2019-12-01  2019              0.105445  "
      ]
     },
     "execution_count": 3,
     "metadata": {},
     "output_type": "execute_result"
    }
   ],
   "source": [
    "df_processed = du.preprocess(df_raw)\n",
    "df_processed.head()"
   ]
  },
  {
   "cell_type": "code",
   "execution_count": 4,
   "metadata": {},
   "outputs": [
    {
     "name": "stderr",
     "output_type": "stream",
     "text": [
      "c:\\code\\ds-engine\\kfp_model_training\\src\\data_utilities.py:48: DtypeWarning: Columns (5,25,65,77,243,245,247,249,383,385,387,389,467,469,471,473,487,489,577,589,755,757,759,761,775,777,779,781,783,785,787,789,871,873,875,877,895,897,899,901,999,1001,1029,1049,1089,1259,1261,1267,1269,1271,1273,1287,1289,1291,1293,1295,1297,1299,1301,1359,1361,1363,1365,1407,1409,1411,1413,1499,1501,1511,1513) have mixed types. Specify dtype option on import or set low_memory=False.\n",
      "  df = pd.read_csv(io.BytesIO(response.data))\n",
      "c:\\code\\ds-engine\\kfp_model_training\\src\\data_utilities.py:48: DtypeWarning: Columns (5,25,65,77,89,235,237,243,245,247,249,263,265,267,269,271,273,275,277,335,337,339,341,383,385,387,389,443,445,447,449,455,457,459,461,467,469,471,473,483,485,487,489,517,537,577,747,749,755,757,759,761,775,777,779,781,783,785,787,789,847,849,851,853,895,897,899,901,967,969,971,973,979,981,983,985,987,989,991,993,995,997,999,1001,1101,1259,1261,1287,1289,1291,1293,1295,1297,1299,1301,1359,1361,1363,1365,1407,1409,1411,1413,1479,1481,1483,1485,1491,1493,1495,1497,1499,1501,1503,1505,1507,1509,1511,1513) have mixed types. Specify dtype option on import or set low_memory=False.\n",
      "  df = pd.read_csv(io.BytesIO(response.data))\n",
      "c:\\code\\ds-engine\\kfp_model_training\\src\\data_utilities.py:48: DtypeWarning: Columns (5,25,65,77,89,235,237,243,245,247,249,263,265,267,269,271,273,275,277,335,337,339,341,383,385,387,389,443,445,447,449,455,457,459,461,467,469,471,473,483,485,487,489,517,537,577,747,749,755,757,759,761,775,777,779,781,783,785,787,789,847,849,851,853,895,897,899,901,967,969,971,973,979,981,983,985,987,989,991,993,995,997,999,1001,1101,1259,1261,1287,1289,1291,1293,1295,1297,1299,1301,1359,1361,1363,1365,1407,1409,1411,1413,1479,1481,1483,1485,1491,1493,1495,1497,1499,1501,1503,1505,1507,1509,1511,1513) have mixed types. Specify dtype option on import or set low_memory=False.\n",
      "  df = pd.read_csv(io.BytesIO(response.data))\n",
      "c:\\code\\ds-engine\\kfp_model_training\\src\\data_utilities.py:135: PerformanceWarning: DataFrame is highly fragmented.  This is usually the result of calling `frame.insert` many times, which has poor performance.  Consider joining all columns at once using pd.concat(axis=1) instead. To get a de-fragmented frame, use `newframe = frame.copy()`\n",
      "  df_s1501['cfips'] = df_s1501['GEO_ID'].str[-5:].astype('Int64')\n",
      "c:\\code\\ds-engine\\kfp_model_training\\src\\data_utilities.py:137: PerformanceWarning: DataFrame is highly fragmented.  This is usually the result of calling `frame.insert` many times, which has poor performance.  Consider joining all columns at once using pd.concat(axis=1) instead. To get a de-fragmented frame, use `newframe = frame.copy()`\n",
      "  df_s1501['total_population'] = df_s1501['S1501_C01_001E'] + df_s1501['S1501_C01_006E']\n",
      "c:\\code\\ds-engine\\kfp_model_training\\src\\data_utilities.py:138: PerformanceWarning: DataFrame is highly fragmented.  This is usually the result of calling `frame.insert` many times, which has poor performance.  Consider joining all columns at once using pd.concat(axis=1) instead. To get a de-fragmented frame, use `newframe = frame.copy()`\n",
      "  df_s1501['pct_bachelors_degree'] = (df_s1501['S1501_C01_005E'] + df_s1501['S1501_C01_012E']) / df_s1501['total_population']\n",
      "c:\\code\\ds-engine\\kfp_model_training\\src\\data_utilities.py:139: PerformanceWarning: DataFrame is highly fragmented.  This is usually the result of calling `frame.insert` many times, which has poor performance.  Consider joining all columns at once using pd.concat(axis=1) instead. To get a de-fragmented frame, use `newframe = frame.copy()`\n",
      "  df_s1501['pct_graduate_degree'] = (df_s1501['S1501_C01_013E']) / df_s1501['total_population']\n"
     ]
    },
    {
     "data": {
      "text/html": [
       "<div>\n",
       "<style scoped>\n",
       "    .dataframe tbody tr th:only-of-type {\n",
       "        vertical-align: middle;\n",
       "    }\n",
       "\n",
       "    .dataframe tbody tr th {\n",
       "        vertical-align: top;\n",
       "    }\n",
       "\n",
       "    .dataframe thead th {\n",
       "        text-align: right;\n",
       "    }\n",
       "</style>\n",
       "<table border=\"1\" class=\"dataframe\">\n",
       "  <thead>\n",
       "    <tr style=\"text-align: right;\">\n",
       "      <th></th>\n",
       "      <th>cfips</th>\n",
       "      <th>state</th>\n",
       "      <th>unix_elapsed_seconds</th>\n",
       "    </tr>\n",
       "  </thead>\n",
       "  <tbody>\n",
       "    <tr>\n",
       "      <th>0</th>\n",
       "      <td>0</td>\n",
       "      <td>0</td>\n",
       "      <td>0.000000</td>\n",
       "    </tr>\n",
       "    <tr>\n",
       "      <th>1</th>\n",
       "      <td>0</td>\n",
       "      <td>0</td>\n",
       "      <td>0.026793</td>\n",
       "    </tr>\n",
       "    <tr>\n",
       "      <th>2</th>\n",
       "      <td>0</td>\n",
       "      <td>0</td>\n",
       "      <td>0.052723</td>\n",
       "    </tr>\n",
       "    <tr>\n",
       "      <th>3</th>\n",
       "      <td>0</td>\n",
       "      <td>0</td>\n",
       "      <td>0.079516</td>\n",
       "    </tr>\n",
       "    <tr>\n",
       "      <th>4</th>\n",
       "      <td>0</td>\n",
       "      <td>0</td>\n",
       "      <td>0.105445</td>\n",
       "    </tr>\n",
       "  </tbody>\n",
       "</table>\n",
       "</div>"
      ],
      "text/plain": [
       "  cfips state  unix_elapsed_seconds\n",
       "0     0     0              0.000000\n",
       "1     0     0              0.026793\n",
       "2     0     0              0.052723\n",
       "3     0     0              0.079516\n",
       "4     0     0              0.105445"
      ]
     },
     "execution_count": 4,
     "metadata": {},
     "output_type": "execute_result"
    }
   ],
   "source": [
    "df_train_X, df_train_y, df_valid_X, df_valid_y, df_test_X, df_test_y = du.feature_engineering(df_processed, host='localhost:9000')\n",
    "df_train_X.head()"
   ]
  },
  {
   "cell_type": "code",
   "execution_count": 5,
   "metadata": {},
   "outputs": [],
   "source": [
    "#df = df_train_X[df_train_X['pct_bachelors_degree'] > 0]\n",
    "#print(len(df))\n",
    "#df.head()"
   ]
  },
  {
   "cell_type": "code",
   "execution_count": 6,
   "metadata": {},
   "outputs": [
    {
     "name": "stdout",
     "output_type": "stream",
     "text": [
      "Training loss:  11.007729566234973\n",
      "Validation loss (MSE) 6.956 - Accuracy (MAE) 0.860\n",
      "Training loss:  8.307092242719607\n",
      "Validation loss (MSE) 5.980 - Accuracy (MAE) 0.620\n",
      "Training loss:  7.90917558233222\n",
      "Validation loss (MSE) 5.605 - Accuracy (MAE) 0.632\n",
      "Training loss:  7.229417502778369\n",
      "Validation loss (MSE) 5.044 - Accuracy (MAE) 0.535\n",
      "Training loss:  7.136771650783516\n",
      "Validation loss (MSE) 6.357 - Accuracy (MAE) 0.575\n"
     ]
    },
    {
     "data": {
      "text/plain": [
       "[(11.007729566234973,\n",
       "  6.956336003123668,\n",
       "  tensor(0.8599, grad_fn=<DivBackward0>)),\n",
       " (8.307092242719607,\n",
       "  5.980262922209225,\n",
       "  tensor(0.6199, grad_fn=<DivBackward0>)),\n",
       " (7.90917558233222, 5.604605950165594, tensor(0.6318, grad_fn=<DivBackward0>)),\n",
       " (7.229417502778369,\n",
       "  5.043648555779761,\n",
       "  tensor(0.5345, grad_fn=<DivBackward0>)),\n",
       " (7.136771650783516,\n",
       "  6.356937755178512,\n",
       "  tensor(0.5748, grad_fn=<DivBackward0>))]"
      ]
     },
     "execution_count": 6,
     "metadata": {},
     "output_type": "execute_result"
    }
   ],
   "source": [
    "mbd_model, results = mu.train_model(df_train_X, df_train_y, df_valid_X, df_valid_y)\n",
    "results"
   ]
  },
  {
   "cell_type": "code",
   "execution_count": 7,
   "metadata": {},
   "outputs": [
    {
     "data": {
      "text/plain": [
       "14.952488"
      ]
     },
     "execution_count": 7,
     "metadata": {},
     "output_type": "execute_result"
    }
   ],
   "source": [
    "smape = mu.test_model(df_test_X, df_test_y, mbd_model)\n",
    "smape"
   ]
  }
 ],
 "metadata": {
  "kernelspec": {
   "display_name": ".venv",
   "language": "python",
   "name": "python3"
  },
  "language_info": {
   "codemirror_mode": {
    "name": "ipython",
    "version": 3
   },
   "file_extension": ".py",
   "mimetype": "text/x-python",
   "name": "python",
   "nbconvert_exporter": "python",
   "pygments_lexer": "ipython3",
   "version": "3.11.2"
  },
  "orig_nbformat": 4
 },
 "nbformat": 4,
 "nbformat_minor": 2
}
